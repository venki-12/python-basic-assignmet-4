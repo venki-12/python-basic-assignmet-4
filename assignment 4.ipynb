{
 "cells": [
  {
   "cell_type": "code",
   "execution_count": 1,
   "metadata": {},
   "outputs": [],
   "source": [
    "#1. What exactly is []?\n",
    "#its a data structure in python called as list.\n",
    "# it is  in ordered sequence\n",
    "# it holds heterogenous data\n",
    "# it is mutable\n",
    "\n",
    "list1 = [1,2,['hello',4,\"i\"],(5,7,'how'),4,7,]"
   ]
  },
  {
   "cell_type": "code",
   "execution_count": 2,
   "metadata": {},
   "outputs": [
    {
     "name": "stdout",
     "output_type": "stream",
     "text": [
      "[2, 4, 'hello', 6, 8, 10]\n"
     ]
    }
   ],
   "source": [
    "#2. In a list of values stored in a variable called spam, how would you assign the value 'hello' as thethird value? (Assume [2, 4, 6, 8, 10] are in spam.)\n",
    "spam = [2,4,6,8,10]\n",
    "spam.insert(2,'hello')\n",
    "print(spam)\n",
    "\n",
    "#by using insert function we can insert value into the list at particular index, as lists are mutble."
   ]
  },
  {
   "cell_type": "code",
   "execution_count": 3,
   "metadata": {},
   "outputs": [
    {
     "name": "stdout",
     "output_type": "stream",
     "text": [
      "d\n"
     ]
    }
   ],
   "source": [
    "#3. What is the value of spam[int(int('3' * 2) / 11)]?\n",
    "spam = ['a','b','c','d']\n",
    "print(spam[int(int('3' * 2) / 11)])\n",
    "\n",
    "\n",
    "#spam[3] results in 'd'\n",
    "\n"
   ]
  },
  {
   "cell_type": "code",
   "execution_count": 4,
   "metadata": {},
   "outputs": [
    {
     "data": {
      "text/plain": [
       "'d'"
      ]
     },
     "execution_count": 4,
     "metadata": {},
     "output_type": "execute_result"
    }
   ],
   "source": [
    "#4. What is the value of spam[-1]?  spam = ['a','b','c','d']\n",
    "\n",
    "spam = ['a','b','c','d']\n",
    "spam[-1]\n",
    "#spam[-1] results in last element of list from positive indexing which will be 'd'"
   ]
  },
  {
   "cell_type": "code",
   "execution_count": 5,
   "metadata": {},
   "outputs": [
    {
     "data": {
      "text/plain": [
       "'c'"
      ]
     },
     "execution_count": 5,
     "metadata": {},
     "output_type": "execute_result"
    }
   ],
   "source": [
    "#What is the value of spam[-2]?  spam = ['a','b','c','d']\n",
    "spam = ['a','b','c','d']\n",
    "spam[-2]\n",
    "#spam[-2] results in second last element of list from positive indexing which will be'c'\n"
   ]
  },
  {
   "cell_type": "code",
   "execution_count": 14,
   "metadata": {},
   "outputs": [
    {
     "data": {
      "text/plain": [
       "1"
      ]
     },
     "execution_count": 14,
     "metadata": {},
     "output_type": "execute_result"
    }
   ],
   "source": [
    "#6. What is the value of bacon.index('cat')?  bacon = [3.14, 'cat', 11, 'cat', True]\n",
    "\n",
    "bacon = [3.14, 'cat', 11, 'cat', True]\n",
    "\n",
    "bacon.index('cat')\n",
    "# value of above code is 1 because .index() always gives first index of elements if the lements are duplicate\n",
    "        \n",
    "\n"
   ]
  },
  {
   "cell_type": "code",
   "execution_count": 18,
   "metadata": {},
   "outputs": [
    {
     "data": {
      "text/plain": [
       "[3.14, 'cat', 11, 'cat', True, 99]"
      ]
     },
     "execution_count": 18,
     "metadata": {},
     "output_type": "execute_result"
    }
   ],
   "source": [
    "#  7. How does bacon.append(99) change the look of the list value in bacon?\n",
    "\n",
    "bacon = [3.14, 'cat', 11, 'cat', True]\n",
    "\n",
    "bacon.append(99)\n",
    "bacon\n",
    "# this code inserts a element to the list at last position."
   ]
  },
  {
   "cell_type": "code",
   "execution_count": 26,
   "metadata": {},
   "outputs": [
    {
     "name": "stdout",
     "output_type": "stream",
     "text": [
      "[3.14, 11, 'cat', True]\n"
     ]
    },
    {
     "data": {
      "text/plain": [
       "[3.14, 11, 'cat', True, 'hell']"
      ]
     },
     "execution_count": 26,
     "metadata": {},
     "output_type": "execute_result"
    }
   ],
   "source": [
    "#8. How does bacon.remove('cat') change the look of the list in bacon?\n",
    "\n",
    "bacon = [3.14, 'cat', 11, 'cat', True]\n",
    "bacon.remove('cat')\n",
    "print(bacon)\n",
    "# It removes the first occurrence of the object from the list.\n",
    "\n"
   ]
  },
  {
   "cell_type": "code",
   "execution_count": 25,
   "metadata": {},
   "outputs": [
    {
     "name": "stdout",
     "output_type": "stream",
     "text": [
      "[1, 3, 'hey', 4, True, 3.19, True, 'hello', True, 4, 7, 8]\n",
      "[1, 3, 'hey', 4, True, 3.19, 1, 3, 'hey', 4, True, 3.19, 1, 3, 'hey', 4, True, 3.19]\n"
     ]
    }
   ],
   "source": [
    "# 9 What are the list concatenation and list replication operators?\n",
    " # operator for list concatenation is + \n",
    " # operator for list replication is *\n",
    "\n",
    "list1 = [1,3, 'hey',4,True, 3.19] \n",
    "list2 = [ True, 'hello', True,4,7,8,]\n",
    "\n",
    "print(list1 + list2)\n",
    "\n",
    "print(list1 * 3)"
   ]
  },
  {
   "cell_type": "code",
   "execution_count": 32,
   "metadata": {},
   "outputs": [
    {
     "name": "stdout",
     "output_type": "stream",
     "text": [
      "[1, 3, 5, 5, 6, 8]\n",
      "[1, 3, 5, 'hi', 5, 6, 8]\n"
     ]
    }
   ],
   "source": [
    "# 10. What is difference between the list methods append() and insert()?\n",
    "\n",
    "# append() function inserts element to the last position of the list.\n",
    "\n",
    "list1 = [1,3,5,5,6]\n",
    "list1.append(8)\n",
    "print(list1)\n",
    "\n",
    "#insert() function inserts element at particular position by taking index number and element to which should be inserted as arguments\n",
    "\n",
    "list1.insert(3,'hi')\n",
    "print(list1)"
   ]
  },
  {
   "cell_type": "code",
   "execution_count": 42,
   "metadata": {},
   "outputs": [
    {
     "name": "stdout",
     "output_type": "stream",
     "text": [
      "[1, 4, 58, 9, 7, 8]\n"
     ]
    },
    {
     "data": {
      "text/plain": [
       "[1, 4, 9, 7, 8]"
      ]
     },
     "execution_count": 42,
     "metadata": {},
     "output_type": "execute_result"
    }
   ],
   "source": [
    "#11. What are the two methods for removing items from a list?\n",
    "\n",
    "# two methods to remove items from list are .pop() and .remove()\n",
    "\n",
    "list12= [1,4,58,9,0,7,8]\n",
    "list12.pop(4)\n",
    "print(list12)\n",
    "# .pop() removes the specific item from list and if we dont provide specific index number last element will be removed\n",
    "\n",
    "list12.remove(58)\n",
    "list12\n",
    "# remove() removes the first matching value/object. It does not do anything with the indexing.\n",
    "\n"
   ]
  },
  {
   "cell_type": "code",
   "execution_count": 5,
   "metadata": {},
   "outputs": [
    {
     "data": {
      "text/plain": [
       "'e'"
      ]
     },
     "execution_count": 5,
     "metadata": {},
     "output_type": "execute_result"
    }
   ],
   "source": [
    "# 12. Describe how list values and string values are identical.\n",
    "\n",
    "# Lists are similar to strings, which are ordered collections of characters, except that the elements of a list can have any type and for any one list, the items can be of different types.\n",
    "\n",
    "string= 'hello'\n",
    "string[1]\n",
    "\n",
    "list_1 = ['h','e','l','l','o']\n",
    "list_1[1]"
   ]
  },
  {
   "cell_type": "code",
   "execution_count": 2,
   "metadata": {},
   "outputs": [
    {
     "name": "stdout",
     "output_type": "stream",
     "text": [
      "[1, 4, 'hi', 6, 9, 9]\n"
     ]
    },
    {
     "ename": "TypeError",
     "evalue": "'tuple' object does not support item assignment",
     "output_type": "error",
     "traceback": [
      "\u001b[1;31m---------------------------------------------------------------------------\u001b[0m",
      "\u001b[1;31mTypeError\u001b[0m                                 Traceback (most recent call last)",
      "\u001b[1;32m<ipython-input-2-2383ee482c9d>\u001b[0m in \u001b[0;36m<module>\u001b[1;34m\u001b[0m\n\u001b[0;32m     12\u001b[0m \u001b[1;33m\u001b[0m\u001b[0m\n\u001b[0;32m     13\u001b[0m \u001b[0mtup\u001b[0m \u001b[1;33m=\u001b[0m \u001b[1;33m(\u001b[0m\u001b[1;34m'hello'\u001b[0m\u001b[1;33m,\u001b[0m\u001b[1;36m4\u001b[0m\u001b[1;33m,\u001b[0m\u001b[1;36m8\u001b[0m\u001b[1;33m,\u001b[0m\u001b[1;36m0\u001b[0m\u001b[1;33m,\u001b[0m\u001b[1;36m56\u001b[0m\u001b[1;33m)\u001b[0m\u001b[1;33m\u001b[0m\u001b[1;33m\u001b[0m\u001b[0m\n\u001b[1;32m---> 14\u001b[1;33m \u001b[0mtup\u001b[0m\u001b[1;33m[\u001b[0m\u001b[1;36m2\u001b[0m\u001b[1;33m]\u001b[0m \u001b[1;33m=\u001b[0m \u001b[1;36m3\u001b[0m\u001b[1;33m\u001b[0m\u001b[1;33m\u001b[0m\u001b[0m\n\u001b[0m\u001b[0;32m     15\u001b[0m \u001b[0mprint\u001b[0m\u001b[1;33m(\u001b[0m\u001b[0mtup\u001b[0m\u001b[1;33m)\u001b[0m\u001b[1;33m\u001b[0m\u001b[1;33m\u001b[0m\u001b[0m\n",
      "\u001b[1;31mTypeError\u001b[0m: 'tuple' object does not support item assignment"
     ]
    }
   ],
   "source": [
    "# 13. What's the difference between tuples and lists?\n",
    "\n",
    "# Lists are mutable \n",
    "#Tuples are immutable\n",
    "# Lists has variable length, tuple has fixed length.\n",
    "#List has more functionality than the tuple.\n",
    "#List are shown by  square brackets[], and tuples are by parantheses ()\n",
    "\n",
    "list1 = [1,4,8,6,9,9]\n",
    "list1[2] = 'hi'\n",
    "print(list1)\n",
    "\n",
    "tup = ('hello',4,8,0,56)\n",
    "tup[2] = 3\n",
    "print(tup)\n"
   ]
  },
  {
   "cell_type": "code",
   "execution_count": 5,
   "metadata": {},
   "outputs": [
    {
     "data": {
      "text/plain": [
       "tuple"
      ]
     },
     "execution_count": 5,
     "metadata": {},
     "output_type": "execute_result"
    }
   ],
   "source": [
    "# 14 How do you type a tuple value that only contains the integer 42?\n",
    "tup1 = (42,)\n",
    "type(tup1)"
   ]
  },
  {
   "cell_type": "code",
   "execution_count": 24,
   "metadata": {},
   "outputs": [
    {
     "name": "stdout",
     "output_type": "stream",
     "text": [
      "(1, 5, 'good', 7)\n",
      "[5, 78, 9, 'hello']\n"
     ]
    }
   ],
   "source": [
    "# 15 How do you get a list value's tuple form? How do you get a tuple value's list form?\n",
    "\n",
    "# from type ccasting we can get list values tuple form and vice versa\n",
    "\n",
    "list_12 = [ 1,5,'good',7]\n",
    "print(tuple(list_12))\n",
    "\n",
    "tup = (5,78,9,'hello')\n",
    "print(list(tup))\n"
   ]
  },
  {
   "cell_type": "code",
   "execution_count": 26,
   "metadata": {},
   "outputs": [],
   "source": [
    "#16 Variables that \"contain\" list values are not necessarily lists themselves. Instead, what do they contain?\n",
    "#They contain string"
   ]
  },
  {
   "cell_type": "code",
   "execution_count": null,
   "metadata": {},
   "outputs": [],
   "source": [
    "# 17. How do you distinguish between copy.copy() and copy.deepcopy()?\n"
   ]
  }
 ],
 "metadata": {
  "kernelspec": {
   "display_name": "Python 3",
   "language": "python",
   "name": "python3"
  },
  "language_info": {
   "codemirror_mode": {
    "name": "ipython",
    "version": 3
   },
   "file_extension": ".py",
   "mimetype": "text/x-python",
   "name": "python",
   "nbconvert_exporter": "python",
   "pygments_lexer": "ipython3",
   "version": "3.8.5"
  }
 },
 "nbformat": 4,
 "nbformat_minor": 4
}
